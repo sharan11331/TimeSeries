{
 "cells": [
  {
   "cell_type": "code",
   "execution_count": 1,
   "id": "845f3adb",
   "metadata": {},
   "outputs": [
    {
     "name": "stderr",
     "output_type": "stream",
     "text": [
      "/tmp/ipykernel_119988/2873185124.py:2: UserWarning: \n",
      "The dash_core_components package is deprecated. Please replace\n",
      "`import dash_core_components as dcc` with `from dash import dcc`\n",
      "  import dash_core_components as dcc\n",
      "/tmp/ipykernel_119988/2873185124.py:3: UserWarning: \n",
      "The dash_html_components package is deprecated. Please replace\n",
      "`import dash_html_components as html` with `from dash import html`\n",
      "  import dash_html_components as html\n"
     ]
    },
    {
     "name": "stdout",
     "output_type": "stream",
     "text": [
      "Dash is running on http://127.0.0.1:9051/\n",
      "\n",
      " * Serving Flask app '__main__'\n",
      " * Debug mode: on\n"
     ]
    },
    {
     "name": "stderr",
     "output_type": "stream",
     "text": [
      "0.00s - Debugger warning: It seems that frozen modules are being used, which may\n",
      "0.00s - make the debugger miss breakpoints. Please pass -Xfrozen_modules=off\n",
      "0.00s - to python to disable frozen modules.\n",
      "0.00s - Note: Debugging will proceed. Set PYDEVD_DISABLE_FILE_VALIDATION=1 to disable this validation.\n",
      "Traceback (most recent call last):\n",
      "  File \"/home/sharanbalakrishnan/Desktop/ML/lib/python3.11/site-packages/ipykernel_launcher.py\", line 17, in <module>\n",
      "    app.launch_new_instance()\n",
      "  File \"/home/sharanbalakrishnan/Desktop/ML/lib/python3.11/site-packages/traitlets/config/application.py\", line 1040, in launch_instance\n",
      "    app.initialize(argv)\n",
      "  File \"/home/sharanbalakrishnan/Desktop/ML/lib/python3.11/site-packages/traitlets/config/application.py\", line 113, in inner\n",
      "    return method(app, *args, **kwargs)\n",
      "           ^^^^^^^^^^^^^^^^^^^^^^^^^^^^\n",
      "  File \"/home/sharanbalakrishnan/Desktop/ML/lib/python3.11/site-packages/ipykernel/kernelapp.py\", line 677, in initialize\n",
      "    self.init_sockets()\n",
      "  File \"/home/sharanbalakrishnan/Desktop/ML/lib/python3.11/site-packages/ipykernel/kernelapp.py\", line 316, in init_sockets\n",
      "    self.shell_port = self._bind_socket(self.shell_socket, self.shell_port)\n",
      "                      ^^^^^^^^^^^^^^^^^^^^^^^^^^^^^^^^^^^^^^^^^^^^^^^^^^^^^\n",
      "  File \"/home/sharanbalakrishnan/Desktop/ML/lib/python3.11/site-packages/ipykernel/kernelapp.py\", line 251, in _bind_socket\n",
      "    return self._try_bind_socket(s, port)\n",
      "           ^^^^^^^^^^^^^^^^^^^^^^^^^^^^^^\n",
      "  File \"/home/sharanbalakrishnan/Desktop/ML/lib/python3.11/site-packages/ipykernel/kernelapp.py\", line 227, in _try_bind_socket\n",
      "    s.bind(\"tcp://%s:%i\" % (self.ip, port))\n",
      "  File \"/home/sharanbalakrishnan/Desktop/ML/lib64/python3.11/site-packages/zmq/sugar/socket.py\", line 300, in bind\n",
      "    super().bind(addr)\n",
      "  File \"zmq/backend/cython/socket.pyx\", line 564, in zmq.backend.cython.socket.Socket.bind\n",
      "  File \"zmq/backend/cython/checkrc.pxd\", line 28, in zmq.backend.cython.checkrc._check_rc\n",
      "zmq.error.ZMQError: Address already in use\n"
     ]
    },
    {
     "ename": "SystemExit",
     "evalue": "1",
     "output_type": "error",
     "traceback": [
      "An exception has occurred, use %tb to see the full traceback.\n",
      "\u001b[0;31mSystemExit\u001b[0m\u001b[0;31m:\u001b[0m 1\n"
     ]
    },
    {
     "name": "stderr",
     "output_type": "stream",
     "text": [
      "/home/sharanbalakrishnan/Desktop/ML/lib/python3.11/site-packages/IPython/core/interactiveshell.py:3450: UserWarning: To exit: use 'exit', 'quit', or Ctrl-D.\n",
      "  warn(\"To exit: use 'exit', 'quit', or Ctrl-D.\", stacklevel=1)\n"
     ]
    }
   ],
   "source": [
    "import dash\n",
    "import dash_core_components as dcc\n",
    "import dash_html_components as html\n",
    "from dash.dependencies import Input, Output\n",
    "import pandas as pd\n",
    "import plotly.graph_objects as go\n",
    "import joblib\n",
    "\n",
    "# Load the saved model\n",
    "saved_model_path = 'prophet_model.joblib'\n",
    "model = joblib.load(saved_model_path)\n",
    "\n",
    "# Create the Dash app\n",
    "app = dash.Dash(__name__)\n",
    "\n",
    "# Define the layout of the dashboard\n",
    "app.layout = html.Div([\n",
    "    html.H1('Forecast vs Last 365 Days'),\n",
    "    dcc.Graph(id='forecast-graph'),\n",
    "    dcc.Slider(\n",
    "        id='future-periods-slider',\n",
    "        min=1,\n",
    "        max=365,\n",
    "        step=1,\n",
    "        value=30,\n",
    "        marks={i: str(i) for i in range(1, 366)}\n",
    "    )\n",
    "])\n",
    "\n",
    "# Define the callback function for updating the graph\n",
    "@app.callback(\n",
    "    Output('forecast-graph', 'figure'),\n",
    "    [Input('future-periods-slider', 'value')]\n",
    ")\n",
    "def update_graph(future_periods):\n",
    "    future_dates = model.make_future_dataframe(periods=future_periods, include_history=False)\n",
    "    forecast = model.predict(future_dates)\n",
    "    last_365_days = df_prophet['ds'].tail(365)\n",
    "    last_365_days_values = df_prophet['y'].tail(365)\n",
    "\n",
    "    fig = go.Figure()\n",
    "    \n",
    "    fig.add_trace(go.Scatter(\n",
    "        x=forecast['ds'],\n",
    "        y=forecast['yhat'],\n",
    "        mode='lines',\n",
    "        name='Forecast',\n",
    "        line=dict(color='red')\n",
    "    ))\n",
    "\n",
    "    fig.add_trace(go.Scatter(\n",
    "        x=last_365_days,\n",
    "        y=last_365_days_values,\n",
    "        mode='lines',\n",
    "        name='Last 365 Days',\n",
    "        line=dict(color='green')\n",
    "    ))\n",
    "\n",
    "    fig.update_layout(\n",
    "        xaxis=dict(title='Date'),\n",
    "        yaxis=dict(title='Value'),\n",
    "        title='Forecast vs Last 365 Days'\n",
    "    )\n",
    "\n",
    "    return fig\n",
    "\n",
    "# Run the Dash app\n",
    "if __name__ == '__main__':\n",
    "    app.run_server(port = 9051 ,debug=True)\n"
   ]
  },
  {
   "cell_type": "code",
   "execution_count": null,
   "id": "9d366353",
   "metadata": {},
   "outputs": [],
   "source": []
  }
 ],
 "metadata": {
  "kernelspec": {
   "display_name": "Python 3 (ipykernel)",
   "language": "python",
   "name": "python3"
  },
  "language_info": {
   "codemirror_mode": {
    "name": "ipython",
    "version": 3
   },
   "file_extension": ".py",
   "mimetype": "text/x-python",
   "name": "python",
   "nbconvert_exporter": "python",
   "pygments_lexer": "ipython3",
   "version": "3.11.1"
  }
 },
 "nbformat": 4,
 "nbformat_minor": 5
}
